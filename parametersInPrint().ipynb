{
 "cells": [
  {
   "cell_type": "code",
   "execution_count": 6,
   "id": "cdae9381",
   "metadata": {},
   "outputs": [
    {
     "name": "stdout",
     "output_type": "stream",
     "text": [
      "GeeksforGeeks is for Geeks\n"
     ]
    }
   ],
   "source": [
    "#using end paramater\n",
    "print(\"GeeksforGeeks is for\", end=' ')\n",
    "print(\"Geeks\")"
   ]
  },
  {
   "cell_type": "code",
   "execution_count": 11,
   "id": "4c3c5902",
   "metadata": {},
   "outputs": [
    {
     "name": "stdout",
     "output_type": "stream",
     "text": [
      "1*2*3*4*5*6\n",
      "Today's date is 03-16-2024\n"
     ]
    }
   ],
   "source": [
    "#using sep parameter\n",
    "print(1, 2, 3, 4, 5, 6, sep='*')\n",
    "\n",
    "print(\"Today's date is 03\", \"16\",\"2024\", sep=\"-\")"
   ]
  },
  {
   "cell_type": "code",
   "execution_count": 25,
   "id": "bf7a1312",
   "metadata": {},
   "outputs": [
    {
     "name": "stdout",
     "output_type": "stream",
     "text": [
      "Geeks:     1, Portal:  5.33\n",
      "@@@@@@@@@@@@@@@@@ I love geeks! @@@@@@@@@@@@@@@@@@\n"
     ]
    }
   ],
   "source": [
    "#string modulo operator\n",
    "print(\"Geeks: %5d, Portal: %5.2f\" %(1,05.333))\n",
    "\n",
    "#use of str.center()\n",
    "print(\" I love geeks! \".center(150,'@'))\n",
    "\n",
    "#use of str.ljust()\n",
    "print(\" I love geeks! \".ljust())"
   ]
  },
  {
   "cell_type": "code",
   "execution_count": null,
   "id": "3b04f026",
   "metadata": {},
   "outputs": [],
   "source": []
  }
 ],
 "metadata": {
  "kernelspec": {
   "display_name": "Python 3 (ipykernel)",
   "language": "python",
   "name": "python3"
  },
  "language_info": {
   "codemirror_mode": {
    "name": "ipython",
    "version": 3
   },
   "file_extension": ".py",
   "mimetype": "text/x-python",
   "name": "python",
   "nbconvert_exporter": "python",
   "pygments_lexer": "ipython3",
   "version": "3.9.7"
  }
 },
 "nbformat": 4,
 "nbformat_minor": 5
}
