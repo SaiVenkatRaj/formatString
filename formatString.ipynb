{
 "cells": [
  {
   "cell_type": "markdown",
   "id": "09558fb4",
   "metadata": {},
   "source": [
    "# Python | Output using print() function #"
   ]
  },
  {
   "cell_type": "code",
   "execution_count": 22,
   "id": "a3167967",
   "metadata": {},
   "outputs": [
    {
     "name": "stdout",
     "output_type": "stream",
     "text": [
      "Name: Raj\n",
      "Age: 18\n",
      "Height: 5.8\n",
      "<class 'str'>\n",
      "<class 'int'>\n",
      "<class 'float'>\n",
      "\n",
      "Hello, my name is Raj and my age is 18\n"
     ]
    }
   ],
   "source": [
    "name = \"Raj\"\n",
    "age = 18\n",
    "height = 5.8\n",
    "\n",
    "\n",
    "print(\"Name:\", name)\n",
    "print(\"Age:\", age)\n",
    "print(\"Height:\", height)\n",
    "\n",
    "print(type(name))\n",
    "print(type(age))\n",
    "print(type(height))\n",
    "\n",
    "#empty quote is used to print em\n",
    "print(\"\")\n",
    "print(\"Hello, my name is\", name, \"and my age is\", age)"
   ]
  },
  {
   "cell_type": "code",
   "execution_count": 27,
   "id": "5e68cdbe",
   "metadata": {},
   "outputs": [
    {
     "name": "stdout",
     "output_type": "stream",
     "text": [
      "the string literal:- \n",
      " is used to print a new blank line\n",
      "\n",
      "a\n",
      "\n",
      "a\n"
     ]
    }
   ],
   "source": [
    "print(\"the string literal:- \\n is used to print a new blank line\")\n",
    "print()\n",
    "print(\"a\")\n",
    "print(\"\")\n",
    "print(\"a\")"
   ]
  },
  {
   "cell_type": "code",
   "execution_count": 41,
   "id": "2f8bec92",
   "metadata": {},
   "outputs": [
    {
     "name": "stdout",
     "output_type": "stream",
     "text": [
      "Hello, this is print() function with end paramater! This line won't start in a new line as the prevoius print statement has an end parameter other than '\\ n'\n",
      "This line starts from new line as the previous print statement has no end value specified. So the default end paramater will be '\\ n' i.e., new line\n"
     ]
    }
   ],
   "source": [
    "#print() using end parameter\n",
    "print(\"Hello, this is print() function with end paramater\", end='!')\n",
    "print(\" This line won't start in a new line as the prevoius print statement has an end parameter \\\n",
    "other than '\\ n'\")\n",
    "print(\"This line starts from new line as the previous print statement has no end value specified. So the \\\n",
    "default end paramater will be '\\ n' i.e., new line\")"
   ]
  },
  {
   "cell_type": "code",
   "execution_count": 47,
   "id": "ece5b8b8",
   "metadata": {},
   "outputs": [
    {
     "name": "stdout",
     "output_type": "stream",
     "text": [
      "The value of a is 10 and b is 100\n",
      "I can print the value 55 as well as the value 65 using the string format function\n",
      "I am from India and my name is Raj\n",
      "My name is Raj and I am from India\n"
     ]
    }
   ],
   "source": [
    "#using .format() method\n",
    "#syntax:- '{}.format(value)'\n",
    "a, b = 10, 100\n",
    "print(\"The value of a is {} and b is {}\".format(a, b))\n",
    "\n",
    "print(\"I can print the value {} as well as the value {} using the string format function\".format(55, 65))\n",
    "\n",
    "\n",
    "#playin with place holders and indexes in format method\n",
    "name=\"Raj\"\n",
    "place=\"India\"\n",
    "\n",
    "print(\"I am from {1} and my name is {0}\".format(name, place))\n",
    "print(\"My name is {} and I am from {}\".format(name, place))"
   ]
  },
  {
   "cell_type": "code",
   "execution_count": 55,
   "id": "641a2ada",
   "metadata": {},
   "outputs": [
    {
     "name": "stdout",
     "output_type": "stream",
     "text": [
      "This site is 100.00% securely encrypted\n",
      "\n",
      "This site is 100% securely encrypted\n",
      "\n",
      "The binary value of 100 is 1100100\n",
      "\n",
      "The binary value of 220 is 11001000\n"
     ]
    }
   ],
   "source": [
    "print(\"This site is {1:.2f}% securely {0}\".format(\"encrypted\", 100))\n",
    "print()\n",
    "print(\"This site is {1:.0f}% securely {0}\".format(\"encrypted\", 100))\n",
    "print()\n",
    "print(\"The {0} value of 100 is {1:b}\".format(\"binary\", 100))\n",
    "print()\n",
    "print(\"The binary value of 220 is {0:b}\".format(200))"
   ]
  },
  {
   "cell_type": "code",
   "execution_count": 59,
   "id": "75c6c2f9",
   "metadata": {},
   "outputs": [
    {
     "name": "stdout",
     "output_type": "stream",
     "text": [
      "['1.00', '2.00', '3.00', '4.00']\n"
     ]
    }
   ],
   "source": [
    "#using format() method and for loop to print a list\n",
    "input = [1.000, 2.000, 3.000, 4.000]\n",
    "output = ['{:.2f}'.format(element) for element in input]\n",
    "print(output)"
   ]
  },
  {
   "cell_type": "code",
   "execution_count": 69,
   "id": "0d498d8c",
   "metadata": {},
   "outputs": [
    {
     "name": "stdout",
     "output_type": "stream",
     "text": [
      "This is a string and I have 5.00 rupees\n",
      "This string is in Python\n",
      "I have 4 rupees\n",
      "The temperature today is twenty degrees celsius outside\n",
      "The temperature today is 20 degrees celsius outside\n"
     ]
    }
   ],
   "source": [
    "string = \"This is a string and I have {x:.2f} rupees\"\n",
    "\n",
    "print(string.format(x=5))\n",
    "\n",
    "a = \"This string is in {}\"\n",
    "print(a.format(\"Python\"))\n",
    "\n",
    "b = \"I have {} rupees\"\n",
    "print(b.format(4))\n",
    "\n",
    "#difference in passing integer, string in to format() method\n",
    "print(\"The temperature today is {} degrees celsius outside\".format(\"twenty\"))\n",
    "print(\"The temperature today is {} degrees celsius outside\".format(20))"
   ]
  },
  {
   "cell_type": "code",
   "execution_count": 78,
   "id": "d99b9e02",
   "metadata": {},
   "outputs": [
    {
     "name": "stdout",
     "output_type": "stream",
     "text": [
      "Hello World!\n"
     ]
    },
    {
     "ename": "TypeError",
     "evalue": "'list' object is not callable",
     "output_type": "error",
     "traceback": [
      "\u001b[0;31m---------------------------------------------------------------------------\u001b[0m",
      "\u001b[0;31mTypeError\u001b[0m                                 Traceback (most recent call last)",
      "\u001b[0;32m/var/folders/df/90z9k44s0fd44yj27hd08msw0000gn/T/ipykernel_36663/3594561801.py\u001b[0m in \u001b[0;36m<module>\u001b[0;34m\u001b[0m\n\u001b[1;32m     10\u001b[0m \u001b[0;34m\u001b[0m\u001b[0m\n\u001b[1;32m     11\u001b[0m \u001b[0;32mif\u001b[0m \u001b[0m__name__\u001b[0m \u001b[0;34m==\u001b[0m \u001b[0;34m\"__main__\"\u001b[0m\u001b[0;34m:\u001b[0m\u001b[0;34m\u001b[0m\u001b[0;34m\u001b[0m\u001b[0m\n\u001b[0;32m---> 12\u001b[0;31m     \u001b[0mmain\u001b[0m\u001b[0;34m(\u001b[0m\u001b[0;34m)\u001b[0m\u001b[0;34m\u001b[0m\u001b[0;34m\u001b[0m\u001b[0m\n\u001b[0m",
      "\u001b[0;32m/var/folders/df/90z9k44s0fd44yj27hd08msw0000gn/T/ipykernel_36663/3594561801.py\u001b[0m in \u001b[0;36mmain\u001b[0;34m()\u001b[0m\n\u001b[1;32m      1\u001b[0m \u001b[0;32mdef\u001b[0m \u001b[0mmain\u001b[0m\u001b[0;34m(\u001b[0m\u001b[0;34m)\u001b[0m\u001b[0;34m:\u001b[0m\u001b[0;34m\u001b[0m\u001b[0;34m\u001b[0m\u001b[0m\n\u001b[1;32m      2\u001b[0m     \u001b[0mprint\u001b[0m\u001b[0;34m(\u001b[0m\u001b[0;34m\"Hello World!\"\u001b[0m\u001b[0;34m)\u001b[0m\u001b[0;34m\u001b[0m\u001b[0;34m\u001b[0m\u001b[0m\n\u001b[0;32m----> 3\u001b[0;31m     \u001b[0mn1\u001b[0m \u001b[0;34m=\u001b[0m \u001b[0mint\u001b[0m\u001b[0;34m(\u001b[0m\u001b[0minput\u001b[0m\u001b[0;34m(\u001b[0m\u001b[0;34m\"Enter lower range :-\\n\"\u001b[0m\u001b[0;34m)\u001b[0m\u001b[0;34m)\u001b[0m\u001b[0;34m\u001b[0m\u001b[0;34m\u001b[0m\u001b[0m\n\u001b[0m\u001b[1;32m      4\u001b[0m     \u001b[0mn2\u001b[0m \u001b[0;34m=\u001b[0m \u001b[0mint\u001b[0m\u001b[0;34m(\u001b[0m\u001b[0minput\u001b[0m\u001b[0;34m(\u001b[0m\u001b[0;34m\"Enter upper range :-\\n\"\u001b[0m\u001b[0;34m)\u001b[0m\u001b[0;34m)\u001b[0m\u001b[0;34m\u001b[0m\u001b[0;34m\u001b[0m\u001b[0m\n\u001b[1;32m      5\u001b[0m     \u001b[0munorganized\u001b[0m\u001b[0;34m(\u001b[0m\u001b[0mn1\u001b[0m\u001b[0;34m,\u001b[0m \u001b[0mn2\u001b[0m\u001b[0;34m)\u001b[0m\u001b[0;34m\u001b[0m\u001b[0;34m\u001b[0m\u001b[0m\n",
      "\u001b[0;31mTypeError\u001b[0m: 'list' object is not callable"
     ]
    }
   ],
   "source": [
    "\n",
    "def main():\n",
    "    print(\"Hello World!\")\n",
    "    n1 = int(input(\"Enter lower range :-\\n\"))\n",
    "    n2 = int(input(\"Enter upper range :-\\n\"))\n",
    "    unorganized(n1, n2)\n",
    "\n",
    "def unorganized(a, b):\n",
    "    for i in range(a, b):\n",
    "        print(i, i**2, i**3, i**4)\n",
    "\n",
    "if __name__ == \"__main__\":\n",
    "    main()"
   ]
  },
  {
   "cell_type": "code",
   "execution_count": 74,
   "id": "43b3df06",
   "metadata": {},
   "outputs": [
    {
     "ename": "TypeError",
     "evalue": "'list' object is not callable",
     "output_type": "error",
     "traceback": [
      "\u001b[0;31m---------------------------------------------------------------------------\u001b[0m",
      "\u001b[0;31mTypeError\u001b[0m                                 Traceback (most recent call last)",
      "\u001b[0;32m/var/folders/df/90z9k44s0fd44yj27hd08msw0000gn/T/ipykernel_36663/1995749172.py\u001b[0m in \u001b[0;36m<module>\u001b[0;34m\u001b[0m\n\u001b[1;32m     13\u001b[0m \u001b[0;34m\u001b[0m\u001b[0m\n\u001b[1;32m     14\u001b[0m \u001b[0;34m\u001b[0m\u001b[0m\n\u001b[0;32m---> 15\u001b[0;31m \u001b[0mn1\u001b[0m \u001b[0;34m=\u001b[0m \u001b[0mint\u001b[0m\u001b[0;34m(\u001b[0m\u001b[0minput\u001b[0m\u001b[0;34m(\u001b[0m\u001b[0;34m\"Enter lower range :-\\n\"\u001b[0m\u001b[0;34m)\u001b[0m\u001b[0;34m)\u001b[0m\u001b[0;34m\u001b[0m\u001b[0;34m\u001b[0m\u001b[0m\n\u001b[0m\u001b[1;32m     16\u001b[0m \u001b[0mn2\u001b[0m \u001b[0;34m=\u001b[0m \u001b[0mint\u001b[0m\u001b[0;34m(\u001b[0m\u001b[0minput\u001b[0m\u001b[0;34m(\u001b[0m\u001b[0;34m\"Enter upper range :-\\n\"\u001b[0m\u001b[0;34m)\u001b[0m\u001b[0;34m)\u001b[0m\u001b[0;34m\u001b[0m\u001b[0;34m\u001b[0m\u001b[0m\n\u001b[1;32m     17\u001b[0m \u001b[0;34m\u001b[0m\u001b[0m\n",
      "\u001b[0;31mTypeError\u001b[0m: 'list' object is not callable"
     ]
    }
   ],
   "source": [
    "def unorganized(a, b):\n",
    "    for i in range(a, b):\n",
    "        print(i, i**2, i**3, i**4)\n",
    " \n",
    "\n",
    "def organized(a, b):\n",
    "    for i in range(a, b):\n",
    " \n",
    "        # Using formatters to give 6\n",
    "        # spaces to each set of values\n",
    "        print(\"{:6d} {:6d} {:6d} {:6d}\"\n",
    "              .format(i, i ** 2, i ** 3, i ** 4))\n",
    " \n",
    "\n",
    "n1 = int(input(\"Enter lower range :-\\n\"))\n",
    "n2 = int(input(\"Enter upper range :-\\n\"))\n",
    " \n",
    "print(\"------Before Using Formatters-------\")\n",
    " \n",
    "# Calling function without formatters\n",
    "unorganized(n1, n2)\n",
    " \n",
    "print()\n",
    "print(\"-------After Using Formatters---------\")\n",
    "print()\n",
    " \n",
    "# Calling function that contains\n",
    "# formatters to organize the data\n",
    "organized(n1, n2)"
   ]
  },
  {
   "cell_type": "code",
   "execution_count": 82,
   "id": "512e020b",
   "metadata": {},
   "outputs": [
    {
     "name": "stdout",
     "output_type": "stream",
     "text": [
      "GeeksforGeeks       , is the computer science portal for geeks   !\n",
      "It is    40 degrees outside !\n"
     ]
    }
   ],
   "source": [
    "print(\"{0:20}, is the computer science portal for {1:8}!\".format(\"GeeksforGeeks\", \"geeks\"))\n",
    "\n",
    "print(\"It is {0:5} degrees outside !\".format(40))"
   ]
  },
  {
   "cell_type": "code",
   "execution_count": 115,
   "id": "2a8117d6",
   "metadata": {},
   "outputs": [
    {
     "name": "stdout",
     "output_type": "stream",
     "text": [
      "My name is Raj Kanchanapally aka Iron Man\n",
      "gee\n",
      "My first name is R and lastname is Kanch\n",
      "There is an iphone whose model is 15 and the price is $1000\n",
      "There is an iphone whose model is 15 and the price is $1000\n"
     ]
    }
   ],
   "source": [
    "introduction = 'My name is {firstName} {lastName} aka {aka}'\n",
    "fullName = {\n",
    "    'firstName': 'Raj',\n",
    "    'lastName': 'Kanchanapally',\n",
    "    'aka': 'Iron Man'\n",
    "}\n",
    "\n",
    "#here ** are used to unpack the dictionary items\n",
    "print(introduction.format(**fullName))\n",
    "\n",
    "#using %s for strings\n",
    "#number after the dot indicate number of letters printed\n",
    "print(\"%.3s\"%('geeksforgeeks', ))\n",
    "\n",
    "a='Raj'\n",
    "b='Kanchanapally'\n",
    "print(\"My first name is %.1s and lastname is %.5s\"%(a, b))\n",
    "\n",
    "\n",
    "phone='iphone'\n",
    "model=15\n",
    "price=1000\n",
    "\n",
    "print('There is an %s whose model is %s and the price is $%s'%(phone, model, price))\n",
    "print('There is an %s whose model is %d and the price is $%d'%(phone, model, price))"
   ]
  },
  {
   "cell_type": "code",
   "execution_count": null,
   "id": "6f97eeda",
   "metadata": {},
   "outputs": [],
   "source": [
    " "
   ]
  }
 ],
 "metadata": {
  "kernelspec": {
   "display_name": "Python 3 (ipykernel)",
   "language": "python",
   "name": "python3"
  },
  "language_info": {
   "codemirror_mode": {
    "name": "ipython",
    "version": 3
   },
   "file_extension": ".py",
   "mimetype": "text/x-python",
   "name": "python",
   "nbconvert_exporter": "python",
   "pygments_lexer": "ipython3",
   "version": "3.9.7"
  }
 },
 "nbformat": 4,
 "nbformat_minor": 5
}
